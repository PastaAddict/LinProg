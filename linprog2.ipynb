{
 "cells": [
  {
   "cell_type": "code",
   "execution_count": 1,
   "metadata": {},
   "outputs": [],
   "source": [
    "from pulp import *\n",
    "import numpy as np\n",
    "import matplotlib.pyplot as plt"
   ]
  },
  {
   "cell_type": "code",
   "execution_count": 96,
   "metadata": {},
   "outputs": [],
   "source": [
    "model = LpProblem(name=\"ex1-problem\", sense=LpMaximize)\n",
    "\n",
    "x1 = LpVariable(name=\"x1\", lowBound=0)\n",
    "x2 = LpVariable(name=\"x2\", lowBound=0)\n",
    "x3 = LpVariable(name=\"x3\", lowBound=0)\n",
    "x4 = LpVariable(name=\"x4\", lowBound=0)\n",
    "\n",
    "objective = 5*x1 + 3*x2 + x3 +4*x4 "
   ]
  },
  {
   "cell_type": "code",
   "execution_count": 97,
   "metadata": {},
   "outputs": [],
   "source": [
    "constraint1 = x1 - 2*x2 + 2*x3 + 3*x4 <= 10\n",
    "constraint2 = 2*x1 + 2*x2 + 2*x3 -x4 <= 6\n",
    "constraint3 = 3*x1 + x2 - x3 +x4 <= 10\n",
    "constraint4 = -x2 + 2*x3 + 2*x4 <= 7"
   ]
  },
  {
   "cell_type": "code",
   "execution_count": 98,
   "metadata": {},
   "outputs": [],
   "source": [
    "model += (constraint1, 'constraint1')\n",
    "model += (constraint2, 'constraint2')\n",
    "model += (constraint3, 'constraint3')\n",
    "model += (constraint4, 'constraint4')"
   ]
  },
  {
   "cell_type": "code",
   "execution_count": 99,
   "metadata": {},
   "outputs": [],
   "source": [
    "model += objective"
   ]
  },
  {
   "cell_type": "code",
   "execution_count": 7,
   "metadata": {},
   "outputs": [],
   "source": [
    "def summary(model):\n",
    "    print(model.status,'\\n') #1 if optimal solution was found\n",
    "    print(f\"objective: {np.round(model.objective.value(),4)}\\n\") #objective function optimal value\n",
    "\n",
    "    for var in model.variables(): #for each variable, print optimal values, and if != label them as basic\n",
    "        print(f\"{var.name}: {np.round(var.value(),4)} {'basic' * int(np.round(var.value(),4)!=0)}\")\n",
    "    print('\\n')\n",
    "\n",
    "    for name, constraint in model.constraints.items(): #for each constraint, print their final values, and if ==0 label them as binding\n",
    "         print(f\"{name}: {np.round(constraint.value(),4)} {'binding' * int(np.round(constraint.value(),4)==0) }\")"
   ]
  },
  {
   "cell_type": "code",
   "execution_count": 93,
   "metadata": {},
   "outputs": [
    {
     "data": {
      "text/plain": [
       "[-30.0, 82.0, 0.0, 0.0]"
      ]
     },
     "execution_count": 93,
     "metadata": {},
     "output_type": "execute_result"
    }
   ],
   "source": [
    "[np.round(i.value(),7) for j,i in model.constraints.items()]"
   ]
  },
  {
   "cell_type": "code",
   "execution_count": 44,
   "metadata": {},
   "outputs": [
    {
     "name": "stdout",
     "output_type": "stream",
     "text": [
      "ex1-problem:\n",
      "MAXIMIZE\n",
      "5*x1 + 3*x2 + 1*x3 + 4*x4 + 0\n",
      "SUBJECT TO\n",
      "constraint1: x1 - 2 x2 + 2 x3 + 3 x4 <= 10\n",
      "\n",
      "constraint2: 2 x1 + 2 x2 + 2 x3 - x4 <= 6\n",
      "\n",
      "constraint3: 3 x1 + x2 - x3 + x4 <= 10\n",
      "\n",
      "constraint4: - x2 + 2 x3 + 2 x4 <= 7\n",
      "\n",
      "VARIABLES\n",
      "x1 Continuous\n",
      "x2 Continuous\n",
      "x3 Continuous\n",
      "x4 Continuous\n",
      "\n"
     ]
    }
   ],
   "source": [
    "print(model)"
   ]
  },
  {
   "cell_type": "code",
   "execution_count": 100,
   "metadata": {},
   "outputs": [],
   "source": [
    "status = model.solve()"
   ]
  },
  {
   "cell_type": "code",
   "execution_count": 101,
   "metadata": {
    "scrolled": true
   },
   "outputs": [
    {
     "name": "stdout",
     "output_type": "stream",
     "text": [
      "1 \n",
      "\n",
      "objective: 37.8667\n",
      "\n",
      "x1: 0.0 \n",
      "x2: 5.1333 basic\n",
      "x3: 0.6 basic\n",
      "x4: 5.4667 basic\n",
      "\n",
      "\n",
      "constraint1: -2.6667 \n",
      "constraint2: -0.0 binding\n",
      "constraint3: 0.0 binding\n",
      "constraint4: 0.0 binding\n"
     ]
    }
   ],
   "source": [
    "summary(model)"
   ]
  },
  {
   "cell_type": "code",
   "execution_count": 132,
   "metadata": {},
   "outputs": [],
   "source": [
    "B = np.array([[-2,2,3,1],[2,2,-1,0],[1,-1,1,0],[-1,2,2,0]])\n",
    "b = np.array([10,6,10,7])"
   ]
  },
  {
   "cell_type": "code",
   "execution_count": 136,
   "metadata": {},
   "outputs": [
    {
     "data": {
      "text/plain": [
       "array([5.13333333, 0.6       , 5.46666667, 2.66666667])"
      ]
     },
     "execution_count": 136,
     "metadata": {},
     "output_type": "execute_result"
    }
   ],
   "source": [
    "np.linalg.inv(B)@b"
   ]
  },
  {
   "cell_type": "code",
   "execution_count": 119,
   "metadata": {},
   "outputs": [
    {
     "name": "stdout",
     "output_type": "stream",
     "text": [
      "[5.13333333 0.6        5.46666667 2.66666667]\n",
      "[ 0.26666667  0.2        -0.06666667  0.33333333]\n"
     ]
    },
    {
     "data": {
      "text/plain": [
       "array([ 19.25,   3.  , -82.  ,   8.  ])"
      ]
     },
     "execution_count": 119,
     "metadata": {},
     "output_type": "execute_result"
    }
   ],
   "source": [
    "c1 = np.linalg.inv(B)@b\n",
    "c2 = np.linalg.inv(B)@np.array([0,1,0,0])\n",
    "\n",
    "print(c1)\n",
    "print(c2)\n",
    "c1/c2"
   ]
  },
  {
   "cell_type": "code",
   "execution_count": 138,
   "metadata": {
    "scrolled": true
   },
   "outputs": [
    {
     "name": "stdout",
     "output_type": "stream",
     "text": [
      "[5.13333333 0.6        5.46666667 2.66666667]\n",
      "[0. 0. 0. 1.]\n"
     ]
    },
    {
     "name": "stderr",
     "output_type": "stream",
     "text": [
      "<ipython-input-138-c675fb9beac3>:6: RuntimeWarning: divide by zero encountered in true_divide\n",
      "  c1/c2\n"
     ]
    },
    {
     "data": {
      "text/plain": [
       "array([       inf,        inf,        inf, 2.66666667])"
      ]
     },
     "execution_count": 138,
     "metadata": {},
     "output_type": "execute_result"
    }
   ],
   "source": [
    "c1 = np.linalg.inv(B)@b\n",
    "c2 = np.linalg.inv(B)@np.array([1,0,0,0])\n",
    "\n",
    "print(c1)\n",
    "print(c2)\n",
    "c1/c2"
   ]
  },
  {
   "cell_type": "code",
   "execution_count": 127,
   "metadata": {
    "scrolled": false
   },
   "outputs": [
    {
     "data": {
      "text/plain": [
       "<matplotlib.legend.Legend at 0x177b8b42820>"
      ]
     },
     "execution_count": 127,
     "metadata": {},
     "output_type": "execute_result"
    },
    {
     "data": {
      "image/png": "[encoded data removed]",
      "text/plain": [
       "<Figure size 720x360 with 1 Axes>"
      ]
     },
     "metadata": {
      "needs_background": "light"
     },
     "output_type": "display_data"
    }
   ],
   "source": [
    "gammas = np.linspace(-15,90,106) #vector containing gamma values\n",
    "z=[] #vector that will store Z values for eavh gamma\n",
    "\n",
    "for gamma in gammas: #for each gamma\n",
    "    model.constraints['constraint2'] -= gamma #subtract gamma from constraint = adding it to the rhs\n",
    "    status = model.solve() #solve it\n",
    "        \n",
    "    if status == -1: #if no optimal solution was found store gamma as non feasibility point\n",
    "        non_feasibility_point = gamma\n",
    "    z.append(np.round(model.objective.value(),4)) #store z value\n",
    "    model.constraints['constraint2'] += gamma #undo constraint change\n",
    "\n",
    "plt.figure(figsize=(10,5))\n",
    "plt.grid()\n",
    "plt.plot(gammas,z)\n",
    "plt.xlabel('γ')\n",
    "plt.ylabel('Z')\n",
    "plt.axvline(non_feasibility_point,color='black',linestyle='--', label='non feasible')\n",
    "plt.legend()"
   ]
  },
  {
   "cell_type": "code",
   "execution_count": 126,
   "metadata": {
    "scrolled": false
   },
   "outputs": [
    {
     "data": {
      "text/plain": [
       "<matplotlib.legend.Legend at 0x177b8ad7070>"
      ]
     },
     "execution_count": 126,
     "metadata": {},
     "output_type": "execute_result"
    },
    {
     "data": {
      "image/png": "[encoded data removed]",
      "text/plain": [
       "<Figure size 720x360 with 1 Axes>"
      ]
     },
     "metadata": {
      "needs_background": "light"
     },
     "output_type": "display_data"
    }
   ],
   "source": [
    "gammas = np.linspace(-20,5,251)\n",
    "z=[]\n",
    "\n",
    "for gamma in gammas:\n",
    "    model.constraints['constraint1'] -= gamma\n",
    "    status = model.solve()\n",
    "    \n",
    "    if status == -1:\n",
    "        non_feasibility_point = gamma\n",
    "    z.append(np.round(model.objective.value(),4))\n",
    "    model.constraints['constraint1'] += gamma\n",
    "\n",
    "plt.figure(figsize=(10,5))\n",
    "plt.grid()\n",
    "plt.plot(gammas,z)\n",
    "plt.xlabel('γ')\n",
    "plt.ylabel('Z')\n",
    "plt.axvline(non_feasibility_point,color='black',linestyle='--', label='non feasible')\n",
    "plt.legend()"
   ]
  },
  {
   "cell_type": "code",
   "execution_count": 73,
   "metadata": {},
   "outputs": [
    {
     "data": {
      "text/plain": [
       "[1, 2, 3]"
      ]
     },
     "execution_count": 73,
     "metadata": {},
     "output_type": "execute_result"
    }
   ],
   "source": [
    "list(np.nonzero([i.value() for i in model.variables()])[0])"
   ]
  },
  {
   "cell_type": "code",
   "execution_count": 12,
   "metadata": {},
   "outputs": [],
   "source": [
    "model2 = LpProblem(name=\"dual-problem\", sense=LpMinimize)\n",
    "\n",
    "y1 = LpVariable(name=\"y1\", lowBound=0)\n",
    "y2 = LpVariable(name=\"y2\", lowBound=0)\n",
    "y3 = LpVariable(name=\"y3\", lowBound=0)\n",
    "y4 = LpVariable(name=\"y4\", lowBound=0)\n",
    "\n",
    "objective = 10*y1 + 6*y2 + 10*y3 +7*y4 \n",
    "\n",
    "constraint1 = y1 + 2*y2 + 3*y3  >= 5\n",
    "constraint2 = -2*y1 + 2*y2 + y3 - y4 >= 3\n",
    "constraint3 = 2*y1 + 2*y2 - y3 + 2*y4 >= 1\n",
    "constraint4 = 3*y1 - y2 + y3 + 2*y4 >= 4\n",
    "\n",
    "model2 += (constraint1, 'constraint1')\n",
    "model2 += (constraint2, 'constraint2')\n",
    "model2 += (constraint3, 'constraint3')\n",
    "model2 += (constraint4, 'constraint4')\n",
    "\n",
    "model2 += objective"
   ]
  },
  {
   "cell_type": "code",
   "execution_count": 13,
   "metadata": {
    "scrolled": true
   },
   "outputs": [
    {
     "name": "stdout",
     "output_type": "stream",
     "text": [
      "1 \n",
      "\n",
      "objective: 37.8667\n",
      "\n",
      "y1: 0.0 \n",
      "y2: 0.7333 basic\n",
      "y3: 2.6 basic\n",
      "y4: 1.0667 basic\n",
      "\n",
      "\n",
      "constraint1: 4.2667 \n",
      "constraint2: -0.0 binding\n",
      "constraint3: 0.0 binding\n",
      "constraint4: 0.0 binding\n"
     ]
    }
   ],
   "source": [
    "model2.solve()\n",
    "summary(model2)"
   ]
  },
  {
   "cell_type": "code",
   "execution_count": 14,
   "metadata": {
    "scrolled": true
   },
   "outputs": [
    {
     "name": "stdout",
     "output_type": "stream",
     "text": [
      "1 \n",
      "\n",
      "objective: 37.8667\n",
      "\n",
      "x1: 0.0 \n",
      "x2: 5.1333 basic\n",
      "x3: 0.6 basic\n",
      "x4: 5.4667 basic\n",
      "\n",
      "\n",
      "constraint1: -2.6667 \n",
      "constraint2: -0.0 binding\n",
      "constraint3: 0.0 binding\n",
      "constraint4: 0.0 binding\n"
     ]
    }
   ],
   "source": [
    "summary(model)"
   ]
  },
  {
   "cell_type": "markdown",
   "metadata": {},
   "source": [
    "$Ασκηση 4$"
   ]
  },
  {
   "cell_type": "code",
   "execution_count": 22,
   "metadata": {},
   "outputs": [],
   "source": [
    "A = np.array([[1,3,0],[2,1,1],[1,0,1]])\n",
    "b = np.array([6,1,-1])\n",
    "x = np.linalg.solve(A,b)"
   ]
  },
  {
   "cell_type": "code",
   "execution_count": 23,
   "metadata": {},
   "outputs": [
    {
     "data": {
      "text/plain": [
       "array([-1.11022302e-16,  2.00000000e+00, -1.00000000e+00])"
      ]
     },
     "execution_count": 23,
     "metadata": {},
     "output_type": "execute_result"
    }
   ],
   "source": [
    "x"
   ]
  },
  {
   "cell_type": "code",
   "execution_count": 166,
   "metadata": {},
   "outputs": [
    {
     "data": {
      "text/plain": [
       "15.0"
      ]
     },
     "execution_count": 166,
     "metadata": {},
     "output_type": "execute_result"
    }
   ],
   "source": [
    "x@np.array([5,8,1])"
   ]
  },
  {
   "cell_type": "code",
   "execution_count": 163,
   "metadata": {},
   "outputs": [
    {
     "data": {
      "text/plain": [
       "15"
      ]
     },
     "execution_count": 163,
     "metadata": {},
     "output_type": "execute_result"
    }
   ],
   "source": [
    "6*3 - 1 -2"
   ]
  },
  {
   "cell_type": "code",
   "execution_count": 167,
   "metadata": {},
   "outputs": [
    {
     "data": {
      "text/plain": [
       "array([-1.11022302e-16,  2.00000000e+00, -1.00000000e+00])"
      ]
     },
     "execution_count": 167,
     "metadata": {},
     "output_type": "execute_result"
    }
   ],
   "source": [
    "x"
   ]
  },
  {
   "cell_type": "markdown",
   "metadata": {},
   "source": [
    "$Άσκηση 3$"
   ]
  },
  {
   "cell_type": "code",
   "execution_count": 250,
   "metadata": {},
   "outputs": [],
   "source": [
    "model3 = LpProblem(name=\"waiters\", sense=LpMinimize)\n",
    "\n",
    "c1 = LpVariable(name=\"c1\", lowBound=0, cat='Integer')\n",
    "c2 = LpVariable(name=\"c2\", lowBound=0, cat='Integer')\n",
    "c3 = LpVariable(name=\"c3\", lowBound=0, cat='Integer')\n",
    "c4 = LpVariable(name=\"c4\", lowBound=0, cat='Integer')\n",
    "c5 = LpVariable(name=\"c5\", lowBound=0, cat='Integer')\n",
    "c6 = LpVariable(name=\"c6\", lowBound=0, cat='Integer')\n",
    "c7 = LpVariable(name=\"c7\", lowBound=0, cat='Integer')\n",
    "\n",
    "objective = c1+c2+c3+c4+c5+c6+c7\n",
    "\n",
    "constraint1 = c1 + c4 + c5 +c6 +c7  >= 17\n",
    "constraint2 = c1 + c2 + c5 +c6 +c7  >= 13\n",
    "constraint3 = c1 + c2 + c3 +c6 +c7  >= 15\n",
    "constraint4 = c1 + c2 + c3 +c4 +c7  >= 19\n",
    "constraint5 = c1 + c2 + c3 +c4 +c5  >= 14\n",
    "constraint6 = c2 + c3 + c4 +c5 +c6  >= 16\n",
    "constraint7 = c3 + c4 + c5 +c6 +c7  >= 11\n",
    "\n",
    "model3 += (constraint1, 'constraint1')\n",
    "model3 += (constraint2, 'constraint2')\n",
    "model3 += (constraint3, 'constraint3')\n",
    "model3 += (constraint4, 'constraint4')\n",
    "model3 += (constraint5, 'constraint5')\n",
    "model3 += (constraint6, 'constraint6')\n",
    "model3 += (constraint7, 'constraint7')\n",
    "\n",
    "model3 += objective"
   ]
  },
  {
   "cell_type": "code",
   "execution_count": 251,
   "metadata": {
    "scrolled": false
   },
   "outputs": [
    {
     "data": {
      "text/plain": [
       "waiters:\n",
       "MINIMIZE\n",
       "1*c1 + 1*c2 + 1*c3 + 1*c4 + 1*c5 + 1*c6 + 1*c7 + 0\n",
       "SUBJECT TO\n",
       "constraint1: c1 + c4 + c5 + c6 + c7 >= 17\n",
       "\n",
       "constraint2: c1 + c2 + c5 + c6 + c7 >= 13\n",
       "\n",
       "constraint3: c1 + c2 + c3 + c6 + c7 >= 15\n",
       "\n",
       "constraint4: c1 + c2 + c3 + c4 + c7 >= 19\n",
       "\n",
       "constraint5: c1 + c2 + c3 + c4 + c5 >= 14\n",
       "\n",
       "constraint6: c2 + c3 + c4 + c5 + c6 >= 16\n",
       "\n",
       "constraint7: c3 + c4 + c5 + c6 + c7 >= 11\n",
       "\n",
       "VARIABLES\n",
       "0 <= c1 Integer\n",
       "0 <= c2 Integer\n",
       "0 <= c3 Integer\n",
       "0 <= c4 Integer\n",
       "0 <= c5 Integer\n",
       "0 <= c6 Integer\n",
       "0 <= c7 Integer"
      ]
     },
     "execution_count": 251,
     "metadata": {},
     "output_type": "execute_result"
    }
   ],
   "source": [
    "model3"
   ]
  },
  {
   "cell_type": "code",
   "execution_count": 252,
   "metadata": {},
   "outputs": [
    {
     "name": "stdout",
     "output_type": "stream",
     "text": [
      "objective: 23.0\n",
      "\n",
      "c1: 2.0 basic\n",
      "c2: 6.0 basic\n",
      "c3: 0.0 \n",
      "c4: 7.0 basic\n",
      "c5: 0.0 \n",
      "c6: 3.0 basic\n",
      "c7: 5.0 basic\n",
      "\n",
      "\n",
      "constraint1: 0.0 binding\n",
      "constraint2: 3.0 \n",
      "constraint3: 1.0 \n",
      "constraint4: 1.0 \n",
      "constraint5: 1.0 \n",
      "constraint6: 0.0 binding\n",
      "constraint7: 4.0 \n"
     ]
    }
   ],
   "source": [
    "model3.solve()\n",
    "summary(model3)"
   ]
  },
  {
   "cell_type": "code",
   "execution_count": 243,
   "metadata": {},
   "outputs": [],
   "source": [
    "model3 = LpProblem(name=\"waiters\", sense=LpMinimize)\n",
    "\n",
    "c1 = LpVariable(name=\"c1\", lowBound=0)\n",
    "c2 = LpVariable(name=\"c2\", lowBound=0)\n",
    "c3 = LpVariable(name=\"c3\", lowBound=0)\n",
    "c4 = LpVariable(name=\"c4\", lowBound=0)\n",
    "c5 = LpVariable(name=\"c5\", lowBound=0)\n",
    "c6 = LpVariable(name=\"c6\", lowBound=0)\n",
    "c7 = LpVariable(name=\"c7\", lowBound=0)\n",
    "\n",
    "objective = c1+c2+c3+c4+c5+c6+c7\n",
    "\n",
    "constraint1 = c1 + c4 + c5 +c6 +c7  >= 17\n",
    "constraint2 = c1 + c2 + c5 +c6 +c7  >= 13\n",
    "constraint3 = c1 + c2 + c3 +c6 +c7  >= 15\n",
    "constraint4 = c1 + c2 + c3 +c4 +c7  >= 19\n",
    "constraint5 = c1 + c2 + c3 +c4 +c5  >= 14\n",
    "constraint6 = c2 + c3 + c4 +c5 +c6  >= 16\n",
    "constraint7 = c3 + c4 + c5 +c6 +c7  >= 11\n",
    "\n",
    "model3 += (constraint1, 'constraint1')\n",
    "model3 += (constraint2, 'constraint2')\n",
    "model3 += (constraint3, 'constraint3')\n",
    "model3 += (constraint4, 'constraint4')\n",
    "model3 += (constraint5, 'constraint5')\n",
    "model3 += (constraint6, 'constraint6')\n",
    "model3 += (constraint7, 'constraint7')\n",
    "\n",
    "model3 += objective"
   ]
  },
  {
   "cell_type": "code",
   "execution_count": 217,
   "metadata": {},
   "outputs": [
    {
     "data": {
      "text/plain": [
       "waiters:\n",
       "MINIMIZE\n",
       "1*c1 + 1*c2 + 1*c3 + 1*c4 + 1*c5 + 1*c6 + 1*c7 + 0\n",
       "SUBJECT TO\n",
       "constraint1: c1 + c4 + c5 + c6 + c7 >= 17\n",
       "\n",
       "constraint2: c1 + c2 + c5 + c6 + c7 >= 13\n",
       "\n",
       "constraint3: c1 + c2 + c3 + c6 + c7 >= 15\n",
       "\n",
       "constraint4: c1 + c2 + c3 + c4 + c7 >= 19\n",
       "\n",
       "constraint5: c1 + c2 + c3 + c4 + c5 >= 14\n",
       "\n",
       "constraint6: c2 + c3 + c4 + c5 + c6 >= 16\n",
       "\n",
       "constraint7: c3 + c4 + c5 + c6 + c7 >= 11\n",
       "\n",
       "VARIABLES\n",
       "c1 Continuous\n",
       "c2 Continuous\n",
       "c3 Continuous\n",
       "c4 Continuous\n",
       "c5 Continuous\n",
       "c6 Continuous\n",
       "c7 Continuous"
      ]
     },
     "execution_count": 217,
     "metadata": {},
     "output_type": "execute_result"
    }
   ],
   "source": [
    "model3"
   ]
  },
  {
   "cell_type": "code",
   "execution_count": 175,
   "metadata": {
    "scrolled": true
   },
   "outputs": [
    {
     "name": "stdout",
     "output_type": "stream",
     "text": [
      "objective: 22.3333\n",
      "\n",
      "c1: 1.3333 basic\n",
      "c2: 5.3333 basic\n",
      "c3: 0.0 \n",
      "c4: 7.3333 basic\n",
      "c5: 0.0 \n",
      "c6: 3.3333 basic\n",
      "c7: 5.0 basic\n",
      "\n",
      "\n",
      "constraint1: -0.0 binding\n",
      "constraint2: 2.0 \n",
      "constraint3: -0.0 binding\n",
      "constraint4: -0.0 binding\n",
      "constraint5: -0.0 binding\n",
      "constraint6: -0.0 binding\n",
      "constraint7: 4.6667 \n"
     ]
    }
   ],
   "source": [
    "model3.solve()\n",
    "summary(model3)"
   ]
  },
  {
   "cell_type": "code",
   "execution_count": 19,
   "metadata": {},
   "outputs": [],
   "source": [
    "model4 = LpProblem(name=\"less_waiters_on_weekends\", sense=LpMaximize)\n",
    "\n",
    "c1 = LpVariable(name=\"c1\", lowBound=0)\n",
    "c2 = LpVariable(name=\"c2\", lowBound=0)\n",
    "c3 = LpVariable(name=\"c3\", lowBound=0)\n",
    "c4 = LpVariable(name=\"c4\", lowBound=0)\n",
    "c5 = LpVariable(name=\"c5\", lowBound=0)\n",
    "c6 = LpVariable(name=\"c6\", lowBound=0)\n",
    "c7 = LpVariable(name=\"c7\", lowBound=0)\n",
    "\n",
    "objective = c1\n",
    "\n",
    "constraint1 = c1 + c4 + c5 +c6 +c7  >= 17\n",
    "constraint2 = c1 + c2 + c5 +c6 +c7  >= 13\n",
    "constraint3 = c1 + c2 + c3 +c6 +c7  >= 15\n",
    "constraint4 = c1 + c2 + c3 +c4 +c7  >= 19\n",
    "constraint5 = c1 + c2 + c3 +c4 +c5  >= 14\n",
    "constraint6 = c2 + c3 + c4 +c5 +c6  >= 16\n",
    "constraint7 = c3 + c4 + c5 +c6 +c7  >= 11\n",
    "constraint8 = c1+c2+c3+c4+c5+c6+c7  == 23\n",
    "\n",
    "model4 += (constraint1, 'constraint1')\n",
    "model4 += (constraint2, 'constraint2')\n",
    "model4 += (constraint3, 'constraint3')\n",
    "model4 += (constraint4, 'constraint4')\n",
    "model4 += (constraint5, 'constraint5')\n",
    "model4 += (constraint6, 'constraint6')\n",
    "model4 += (constraint7, 'constraint7')\n",
    "model4 += (constraint8, 'constraint8')\n",
    "\n",
    "model4 += objective"
   ]
  },
  {
   "cell_type": "code",
   "execution_count": 20,
   "metadata": {
    "scrolled": true
   },
   "outputs": [
    {
     "data": {
      "text/plain": [
       "less_waiters_on_weekends:\n",
       "MAXIMIZE\n",
       "1*c1 + 0\n",
       "SUBJECT TO\n",
       "constraint1: c1 + c4 + c5 + c6 + c7 >= 17\n",
       "\n",
       "constraint2: c1 + c2 + c5 + c6 + c7 >= 13\n",
       "\n",
       "constraint3: c1 + c2 + c3 + c6 + c7 >= 15\n",
       "\n",
       "constraint4: c1 + c2 + c3 + c4 + c7 >= 19\n",
       "\n",
       "constraint5: c1 + c2 + c3 + c4 + c5 >= 14\n",
       "\n",
       "constraint6: c2 + c3 + c4 + c5 + c6 >= 16\n",
       "\n",
       "constraint7: c3 + c4 + c5 + c6 + c7 >= 11\n",
       "\n",
       "constraint8: c1 + c2 + c3 + c4 + c5 + c6 + c7 = 23\n",
       "\n",
       "VARIABLES\n",
       "c1 Continuous\n",
       "c2 Continuous\n",
       "c3 Continuous\n",
       "c4 Continuous\n",
       "c5 Continuous\n",
       "c6 Continuous\n",
       "c7 Continuous"
      ]
     },
     "execution_count": 20,
     "metadata": {},
     "output_type": "execute_result"
    }
   ],
   "source": [
    "model4"
   ]
  },
  {
   "cell_type": "code",
   "execution_count": 21,
   "metadata": {
    "scrolled": true
   },
   "outputs": [
    {
     "name": "stdout",
     "output_type": "stream",
     "text": [
      "1 \n",
      "\n",
      "objective: 7.0\n",
      "\n",
      "c1: 7.0 basic\n",
      "c2: 2.0 basic\n",
      "c3: 4.0 basic\n",
      "c4: 6.0 basic\n",
      "c5: 2.0 basic\n",
      "c6: 2.0 basic\n",
      "c7: 0.0 \n",
      "\n",
      "\n",
      "constraint1: 0.0 binding\n",
      "constraint2: 0.0 binding\n",
      "constraint3: 0.0 binding\n",
      "constraint4: 0.0 binding\n",
      "constraint5: 7.0 \n",
      "constraint6: 0.0 binding\n",
      "constraint7: 3.0 \n",
      "constraint8: 0.0 binding\n"
     ]
    }
   ],
   "source": [
    "model4.solve()\n",
    "summary(model4)"
   ]
  },
  {
   "cell_type": "markdown",
   "metadata": {},
   "source": [
    "$Άσκηση \\ 3$"
   ]
  },
  {
   "cell_type": "code",
   "execution_count": 277,
   "metadata": {},
   "outputs": [],
   "source": [
    "model4 = LpProblem(name=\"ex3\", sense=LpMaximize)\n",
    "\n",
    "x1 = LpVariable(name=\"x1\", cat='Binary')\n",
    "x2 = LpVariable(name=\"x2\", cat='Binary')\n",
    "x3 = LpVariable(name=\"x3\", cat='Binary')\n",
    "x4 = LpVariable(name=\"x4\", cat='Binary')\n",
    "x5 = LpVariable(name=\"x5\", cat='Binary')\n",
    "\n",
    "\n",
    "objective = 23*x1+17*x2+14*x4+9*x5\n",
    "\n",
    "#constraint1 = 6*x1+5*x2+10*x3+7*x4+5*x5  <= 14\n",
    "constraint1 = x1 + x2 + x4 + x5 <= 2\n",
    "\n",
    "model4 += (constraint1, 'constraint1')\n",
    "model4 += objective"
   ]
  },
  {
   "cell_type": "code",
   "execution_count": 266,
   "metadata": {
    "scrolled": true
   },
   "outputs": [
    {
     "name": "stdout",
     "output_type": "stream",
     "text": [
      "objective: 40.0\n",
      "\n",
      "x1: 1.0 basic\n",
      "x2: 1.0 basic\n",
      "x4: 0.0 \n",
      "x5: 0.0 \n",
      "\n",
      "\n",
      "constraint1: 0.0 binding\n"
     ]
    }
   ],
   "source": [
    "model4.solve()\n",
    "summary(model4)"
   ]
  },
  {
   "cell_type": "code",
   "execution_count": 287,
   "metadata": {},
   "outputs": [],
   "source": [
    "model4 = LpProblem(name=\"ex3\", sense=LpMaximize)\n",
    "\n",
    "x1 = LpVariable(name=\"x1\", lowBound=0)\n",
    "x2 = LpVariable(name=\"x2\", lowBound=0)\n",
    "x3 = LpVariable(name=\"x3\", lowBound=0)\n",
    "x4 = LpVariable(name=\"x4\", lowBound=0)\n",
    "x5 = LpVariable(name=\"x5\", lowBound=0)\n",
    "\n",
    "objective = 23*x1+17*x2+30*x3+14*x4+9*x5\n",
    "\n",
    "constraint1 = 6*x1+5*x2+10*x3+7*x4+5*x5  <= 14\n",
    "\n",
    "model4 += (constraint1, 'constraint1')\n",
    "model4 += objective"
   ]
  },
  {
   "cell_type": "code",
   "execution_count": 268,
   "metadata": {
    "scrolled": true
   },
   "outputs": [
    {
     "name": "stdout",
     "output_type": "stream",
     "text": [
      "objective: 53.6667\n",
      "\n",
      "x1: 2.3333 basic\n",
      "x2: 0.0 \n",
      "x3: 0.0 \n",
      "x4: 0.0 \n",
      "x5: 0.0 \n",
      "\n",
      "\n",
      "constraint1: -0.0 binding\n"
     ]
    }
   ],
   "source": [
    "model4.solve()\n",
    "summary(model4)"
   ]
  },
  {
   "cell_type": "code",
   "execution_count": 291,
   "metadata": {},
   "outputs": [],
   "source": [
    "model4 = LpProblem(name=\"ex3\", sense=LpMaximize)\n",
    "\n",
    "x1 = LpVariable(name=\"x1\", cat='Binary')\n",
    "x2 = LpVariable(name=\"x2\", cat='Binary')\n",
    "x3 = LpVariable(name=\"x3\", cat='Binary')\n",
    "x4 = LpVariable(name=\"x4\", cat='Binary')\n",
    "x5 = LpVariable(name=\"x5\", cat='Binary')\n",
    "\n",
    "\n",
    "objective = 23*x1+17*x2+30*x3+14*x4+9*x5\n",
    "\n",
    "constraint1 = 6*x1+5*x2+10*x3+7*x4+5*x5  <= 14\n",
    "constraint2 = x1 + x3 <= 1\n",
    "constraint3 = x2 + x3 <= 1\n",
    "constraint4 = x3 + x4 <= 1\n",
    "\n",
    "\n",
    "model4 += (constraint1, 'constraint1')\n",
    "model4 += (constraint2, 'constraint2')\n",
    "model4 += (constraint3, 'constraint3')\n",
    "model4 += (constraint4, 'constraint4')\n",
    "\n",
    "model4 += objective"
   ]
  },
  {
   "cell_type": "code",
   "execution_count": 292,
   "metadata": {},
   "outputs": [
    {
     "name": "stdout",
     "output_type": "stream",
     "text": [
      "1 \n",
      "\n",
      "objective: 40.0\n",
      "\n",
      "x1: 1.0 basic\n",
      "x2: 1.0 basic\n",
      "x3: 0.0 \n",
      "x4: 0.0 \n",
      "x5: 0.0 \n",
      "\n",
      "\n",
      "constraint1: -3.0 \n",
      "constraint2: 0.0 binding\n",
      "constraint3: 0.0 binding\n",
      "constraint4: -1.0 \n"
     ]
    }
   ],
   "source": [
    "model4.solve()\n",
    "summary(model4)"
   ]
  },
  {
   "cell_type": "code",
   "execution_count": 29,
   "metadata": {},
   "outputs": [],
   "source": [
    "model4 = LpProblem(name=\"ex3\", sense=LpMaximize)\n",
    "\n",
    "x1 = LpVariable(name=\"x1\", lowBound=0)\n",
    "x2 = LpVariable(name=\"x2\", lowBound=0)\n",
    "x3 = LpVariable(name=\"x3\", lowBound=0)\n",
    "x4 = LpVariable(name=\"x4\", lowBound=0)\n",
    "x5 = LpVariable(name=\"x5\", lowBound=0)\n",
    "\n",
    "objective = 23*x1+17*x2+30*x3+14*x4+9*x5\n",
    "\n",
    "constraint1 = 6*x1+5*x2+10*x3+7*x4+5*x5  <= 14\n",
    "constraint2 = x1 + x3 <= 1\n",
    "constraint3 = x2 + x3 <= 1\n",
    "constraint4 = x3 + x4 <= 1\n",
    "\n",
    "\n",
    "model4 += (constraint1, 'constraint1')\n",
    "model4 += (constraint2, 'constraint2')\n",
    "model4 += (constraint3, 'constraint3')\n",
    "model4 += (constraint4, 'constraint4')\n",
    "\n",
    "model4 += objective"
   ]
  },
  {
   "cell_type": "code",
   "execution_count": 35,
   "metadata": {
    "scrolled": true
   },
   "outputs": [
    {
     "name": "stdout",
     "output_type": "stream",
     "text": [
      "1 \n",
      "\n",
      "objective: 26.0\n",
      "\n",
      "x1: 0.0 \n",
      "x2: 1.0 basic\n",
      "x3: 0.0 \n",
      "x4: 0.0 \n",
      "x5: 1.0 basic\n",
      "\n",
      "\n",
      "constraint1: -4.0 \n",
      "constraint2: -1.0 \n",
      "constraint3: 0.0 binding\n",
      "constraint4: -1.0 \n"
     ]
    }
   ],
   "source": [
    "model4.variables()[0].upBound = 0\n",
    "model4.variables()[0].lowBound = 0\n",
    "\n",
    "model4.solve()\n",
    "summary(model4)"
   ]
  }
 ],
 "metadata": {
  "kernelspec": {
   "display_name": "Python 3",
   "language": "python",
   "name": "python3"
  },
  "language_info": {
   "codemirror_mode": {
    "name": "ipython",
    "version": 3
   },
   "file_extension": ".py",
   "mimetype": "text/x-python",
   "name": "python",
   "nbconvert_exporter": "python",
   "pygments_lexer": "ipython3",
   "version": "3.8.5"
  }
 },
 "nbformat": 4,
 "nbformat_minor": 4
}
