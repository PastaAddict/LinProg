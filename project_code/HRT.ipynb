{
 "cells": [
  {
   "cell_type": "code",
   "execution_count": 1,
   "metadata": {},
   "outputs": [],
   "source": [
    "import numpy as np\n",
    "import matplotlib.pyplot as plt\n",
    "from pulp import *\n",
    "import time"
   ]
  },
  {
   "cell_type": "code",
   "execution_count": 2,
   "metadata": {},
   "outputs": [],
   "source": [
    "from SMTI import create_random_preferences, stability_constraints, other_constraints"
   ]
  },
  {
   "cell_type": "code",
   "execution_count": 3,
   "metadata": {},
   "outputs": [],
   "source": [
    "def HRT_constraints(men_preferences,women_preferences, capacities):\n",
    "    M = men_preferences.shape[0]\n",
    "    W = women_preferences.shape[0]\n",
    "    \n",
    "    F = [((men_preferences[i]!=np.inf)*(women_preferences[:,i]!=np.inf)).nonzero()[0] for i in range(M)]\n",
    "    C = [((women_preferences[i]!=np.inf)*(men_preferences[:,i]!=np.inf)).nonzero()[0] for i in range(W)]\n",
    "    \n",
    "    men_stability = [[(men_preferences[j] <= men_preferences[j,i]).nonzero()[0] for i in F[j]] for j in range(M)]\n",
    "    women_stability = [[(women_preferences[j] <= women_preferences[j,i]).nonzero()[0] for i in C[j]] for j in range(W)]\n",
    "    \n",
    "    constraints = np.zeros((M*W,M*W))\n",
    "    \n",
    "    for i in range(M):\n",
    "        for ind, j in enumerate(F[i]):\n",
    "            x = np.zeros((M,W))\n",
    "            \n",
    "            if women_preferences[j][i] != np.inf:\n",
    "                man_ind = np.where(C[j]==i)[0][0]\n",
    "                w = women_stability[j][man_ind]\n",
    "            else:\n",
    "                w=[]\n",
    "            \n",
    "            m = men_stability[i][ind]\n",
    "            for k in w:\n",
    "                x[k,j] += 1\n",
    "            for k in m:\n",
    "                x[i,k] += capacities[j]\n",
    "\n",
    "            constraints[i*W+j,:] = x.reshape(1,-1)\n",
    "            \n",
    "    return constraints"
   ]
  },
  {
   "cell_type": "code",
   "execution_count": 4,
   "metadata": {},
   "outputs": [],
   "source": [
    "def IP_MAX_HRT(men_prefs, women_prefs, capacities):\n",
    "    M, W = men_prefs.shape\n",
    "    s_constraints = HRT_constraints(men_prefs, women_prefs, capacities)\n",
    "    o_constraints = other_constraints(M,W)\n",
    "    impossible_matches = (((women_prefs.T) + men_prefs)==np.inf).reshape(1,-1)[0]\n",
    "    \n",
    "    prob = LpProblem(\"MAX-HRT\", sense=LpMaximize)\n",
    "    matches = LpVariable.dicts(\"match\", (range(M), range(W)), cat=\"Binary\")\n",
    "    prob += lpSum(matches)\n",
    "    \n",
    "    variables = sum([list(matches[i].values()) for i in matches], [])\n",
    "    for i in range(M*W):\n",
    "        if not (s_constraints[i]==0).all():\n",
    "            prob += lpSum([s_constraints[i][j]*variables[j] for j in range(M*W)]) >= capacities[i%W]\n",
    "\n",
    "    for i in range(M):\n",
    "        prob += lpSum([o_constraints[i][j]*variables[j] for j in range(M*W)]) <= 1\n",
    "        \n",
    "    for i in range(W):\n",
    "        prob += lpSum([o_constraints[M+i][j]*variables[j] for j in range(M*W)]) <= capacities[i]\n",
    "\n",
    "    for i in range(M*W):\n",
    "        if impossible_matches[i] != 0:\n",
    "            prob += impossible_matches[i]*variables[i] == 0\n",
    "            \n",
    "    return prob, variables"
   ]
  },
  {
   "cell_type": "code",
   "execution_count": 5,
   "metadata": {},
   "outputs": [],
   "source": [
    "def summary(model, variables, M, W):\n",
    "    print(model.status,'\\n') #1 if optimal solution was found\n",
    "    print(f\"objective: {np.round(model.objective.value(),4)}\\n\") #objective function optimal value\n",
    "    x = np.array([i.value() for i in variables]).reshape(M,W)\n",
    "    print(x)\n",
    "    return x"
   ]
  },
  {
   "cell_type": "code",
   "execution_count": 6,
   "metadata": {},
   "outputs": [],
   "source": [
    "solver =  GUROBI_CMD(options = [('MIPFocus',2), ('Presolve',0), ('IntegralityFocus',1)])"
   ]
  },
  {
   "cell_type": "code",
   "execution_count": 11,
   "metadata": {},
   "outputs": [
    {
     "name": "stdout",
     "output_type": "stream",
     "text": [
      "residents preferences:\n",
      " [[ 0. inf inf]\n",
      " [inf  0. inf]\n",
      " [ 0.  0.  0.]\n",
      " [ 0. inf  1.]\n",
      " [ 1.  1.  0.]\n",
      " [inf  0. inf]\n",
      " [inf inf  0.]\n",
      " [ 0.  0. inf]\n",
      " [ 0.  0.  0.]\n",
      " [ 0.  0. inf]] \n",
      "\n",
      " hospital preferences:\n",
      " [[inf inf inf  1.  2. inf  0.  1.  3. inf]\n",
      " [ 2.  3.  3.  1.  3. inf  0.  1.  1. inf]\n",
      " [inf  2.  0. inf  0.  1. inf inf  2.  0.]] \n",
      "hospital capacities:\n",
      " [6 6 3]\n",
      "1 \n",
      "\n",
      "objective: 6.0\n",
      "\n",
      "[[0. 0. 0.]\n",
      " [0. 1. 0.]\n",
      " [0. 0. 1.]\n",
      " [1. 0. 0.]\n",
      " [0. 0. 1.]\n",
      " [0. 0. 0.]\n",
      " [0. 0. 0.]\n",
      " [0. 1. 0.]\n",
      " [0. 1. 0.]\n",
      " [0. 0. 0.]]\n",
      "[1. 3. 2.]\n"
     ]
    }
   ],
   "source": [
    "R=10\n",
    "H=3\n",
    "hospital_capacities = np.random.randint(0,10,H)\n",
    "\n",
    "residents_pref = create_random_preferences(R, H, True, True)\n",
    "hospital_pref = create_random_preferences(H, R, True, True)\n",
    "\n",
    "model, variables = IP_MAX_HRT(residents_pref, hospital_pref, hospital_capacities)\n",
    "model.solve(solver)\n",
    "\n",
    "print(\"residents preferences:\\n\",residents_pref,'\\n\\n',\"hospital preferences:\\n\",hospital_pref,\"\\nhospital capacities:\\n\",hospital_capacities)\n",
    "x = summary(model,variables,R,H)\n",
    "print(np.sum(x, axis=0))"
   ]
  },
  {
   "cell_type": "code",
   "execution_count": 149,
   "metadata": {
    "scrolled": true
   },
   "outputs": [
    {
     "name": "stdout",
     "output_type": "stream",
     "text": [
      "2\n",
      "3\n",
      "4\n",
      "5\n",
      "6\n",
      "7\n",
      "8\n",
      "9\n",
      "10\n",
      "11\n",
      "12\n",
      "13\n",
      "14\n",
      "15\n",
      "16\n",
      "17\n",
      "18\n",
      "19\n",
      "20\n",
      "21\n",
      "22\n",
      "23\n",
      "24\n",
      "25\n",
      "26\n",
      "27\n",
      "28\n",
      "29\n",
      "30\n",
      "31\n",
      "32\n",
      "33\n",
      "34\n",
      "35\n",
      "36\n",
      "37\n",
      "38\n",
      "39\n",
      "40\n",
      "41\n",
      "42\n",
      "43\n",
      "44\n",
      "45\n",
      "46\n",
      "47\n",
      "48\n",
      "49\n"
     ]
    }
   ],
   "source": [
    "H=10\n",
    "hospital_capacities = np.random.randint(1,5,H)\n",
    "excecution_times=[]\n",
    "\n",
    "for R in range(2,50):\n",
    "    print(R)\n",
    "    for i in range(10):\n",
    "        residents_pref = create_random_preferences(R, H, True, True)\n",
    "        hospital_pref = create_random_preferences(H, R, True, True)\n",
    "\n",
    "        model, variables = IP_MAX_HRT(residents_pref, hospital_pref, hospital_capacities)\n",
    "        start = time.time()\n",
    "        model.solve(solver)\n",
    "        excecution_times.append(time.time()-start)"
   ]
  },
  {
   "cell_type": "code",
   "execution_count": 152,
   "metadata": {},
   "outputs": [
    {
     "data": {
      "text/plain": [
       "<matplotlib.legend.Legend at 0x2aa57749fd0>"
      ]
     },
     "execution_count": 152,
     "metadata": {},
     "output_type": "execute_result"
    },
    {
     "data": {
      "image/png": "[encoded data removed]",
      "text/plain": [
       "<Figure size 864x432 with 1 Axes>"
      ]
     },
     "metadata": {
      "needs_background": "light"
     },
     "output_type": "display_data"
    }
   ],
   "source": [
    "plt.figure(figsize=(12,6))\n",
    "plt.plot(np.mean(np.array(excecution_times).reshape(-1,10), axis=1), label='MAX-HRT Integer Programming')\n",
    "#plt.plot(excecution_times, label='MAX-HRT Integer Programming')\n",
    "plt.xlabel('Number of residents')\n",
    "plt.ylabel('Seconds to find stable match')\n",
    "plt.grid()\n",
    "plt.legend()"
   ]
  }
 ],
 "metadata": {
  "kernelspec": {
   "display_name": "Python 3",
   "language": "python",
   "name": "python3"
  },
  "language_info": {
   "codemirror_mode": {
    "name": "ipython",
    "version": 3
   },
   "file_extension": ".py",
   "mimetype": "text/x-python",
   "name": "python",
   "nbconvert_exporter": "python",
   "pygments_lexer": "ipython3",
   "version": "3.8.5"
  }
 },
 "nbformat": 4,
 "nbformat_minor": 4
}
